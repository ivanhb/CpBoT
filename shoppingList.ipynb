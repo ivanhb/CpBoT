{
 "cells": [
  {
   "cell_type": "code",
   "execution_count": 44,
   "metadata": {
    "collapsed": true
   },
   "outputs": [],
   "source": [
    "my_commands = {\n",
    "    \"#addItem\" : {\"module\": \"shoppingList\", \"method\": \"add_entry\", \"notes\":\"insert item name and some notes if needed.\"},\n",
    "    \"#removeItem\" : {\"module\": \"shoppingList\", \"method\": \"remove_entry\", \"notes\":\"insert item name\"},\n",
    "    \"#removeAll\" : {\"module\": \"shoppingList\", \"method\": \"remove_all\", \"notes\":\"\"},\n",
    "    \"#getList\" : {\"module\": \"shoppingList\", \"method\": \"get_list\", \"notes\":\"\"},\n",
    "}\n",
    "\n",
    "shopping_list = {}\n",
    "\n",
    "def get_my_commands():\n",
    "    return my_commands\n",
    "\n",
    "def add_entry(a_text):\n",
    "    name = \"\"\n",
    "    notes = \"\"\n",
    "    if len(a_text) > 0:\n",
    "        name = a_text[0]\n",
    "    if len(a_text) > 1:\n",
    "        notes = \" \".join(a_text[1:])\n",
    "    if name != \"\":\n",
    "        shopping_list[name] = {\"notes\": notes}\n",
    "        return \"Item '\"+name+\"' added\"\n",
    "    else:\n",
    "        return \"I will not insert an empty Item!\"\n",
    "                          \n",
    "def remove_entry(a_text):   \n",
    "    name = \"\"\n",
    "    if len(a_text) > 0:\n",
    "        name = a_text[0]\n",
    "    \n",
    "    if name in shopping_list:\n",
    "        shopping_list.pop(name, None)\n",
    "        return \"Item '\"+name+\"' removed\"\n",
    "    return \"No Item in the list with name '\"+name+\"'\"\n",
    "    \n",
    "def remove_all(a_text):\n",
    "    #list_copy = shopping_list\n",
    "    #for key in list_copy:\n",
    "    #    shopping_list.pop(key, None)\n",
    "    for key in shopping_list.keys():\n",
    "        shopping_list.pop(key, None)\n",
    "        \n",
    "    return \"All Items removed\"\n",
    "\n",
    "def get_list(a_text):\n",
    "    all_items = \"\"\n",
    "    for key in shopping_list:\n",
    "        all_items = \"- \"+str(key)+\" : \" + str(shopping_list[key][\"notes\"]) +\"\\n\" +all_items\n",
    "    \n",
    "    if(all_items != \"\"):\n",
    "        return str(all_items)\n",
    "    else:\n",
    "        return \"No items in list!\"\n",
    "        \n"
   ]
  },
  {
   "cell_type": "code",
   "execution_count": null,
   "metadata": {
    "collapsed": false
   },
   "outputs": [],
   "source": []
  },
  {
   "cell_type": "code",
   "execution_count": null,
   "metadata": {
    "collapsed": true
   },
   "outputs": [],
   "source": []
  }
 ],
 "metadata": {
  "anaconda-cloud": {},
  "kernelspec": {
   "display_name": "Python [conda env:py27]",
   "language": "python",
   "name": "conda-env-py27-py"
  },
  "language_info": {
   "codemirror_mode": {
    "name": "ipython",
    "version": 2
   },
   "file_extension": ".py",
   "mimetype": "text/x-python",
   "name": "python",
   "nbconvert_exporter": "python",
   "pygments_lexer": "ipython2",
   "version": "2.7.12"
  }
 },
 "nbformat": 4,
 "nbformat_minor": 2
}
