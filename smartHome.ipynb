{
 "cells": [
  {
   "cell_type": "code",
   "execution_count": 6,
   "metadata": {
    "collapsed": false
   },
   "outputs": [
    {
     "ename": "ImportError",
     "evalue": "No module named picamera",
     "output_type": "error",
     "traceback": [
      "\u001b[0;31m---------------------------------------------------------------------------\u001b[0m",
      "\u001b[0;31mImportError\u001b[0m                               Traceback (most recent call last)",
      "\u001b[0;32m<ipython-input-6-365f1c7cdd73>\u001b[0m in \u001b[0;36m<module>\u001b[0;34m()\u001b[0m\n\u001b[1;32m      6\u001b[0m \u001b[0;34m\u001b[0m\u001b[0m\n\u001b[1;32m      7\u001b[0m \u001b[0;32mimport\u001b[0m \u001b[0mshoppingList\u001b[0m\u001b[0;34m\u001b[0m\u001b[0m\n\u001b[0;32m----> 8\u001b[0;31m \u001b[0;32mimport\u001b[0m \u001b[0mcamera\u001b[0m\u001b[0;34m\u001b[0m\u001b[0m\n\u001b[0m\u001b[1;32m      9\u001b[0m \u001b[0;32mimport\u001b[0m \u001b[0msys\u001b[0m\u001b[0;34m\u001b[0m\u001b[0m\n\u001b[1;32m     10\u001b[0m \u001b[0;31m#sys.path.insert(0, '/path/to/application/app/folder')\u001b[0m\u001b[0;34m\u001b[0m\u001b[0;34m\u001b[0m\u001b[0m\n",
      "\u001b[0;32m/Users/ivanHeyB/myProj/myTeleBot/camera.py\u001b[0m in \u001b[0;36m<module>\u001b[0;34m()\u001b[0m\n\u001b[1;32m     21\u001b[0m         \u001b[0;32mreturn\u001b[0m \u001b[0;34m{\u001b[0m\u001b[0;34m\"text\"\u001b[0m\u001b[0;34m:\u001b[0m \u001b[0;34m\"Wrong password!\"\u001b[0m\u001b[0;34m}\u001b[0m\u001b[0;34m\u001b[0m\u001b[0m\n\u001b[1;32m     22\u001b[0m \u001b[0;34m\u001b[0m\u001b[0m\n\u001b[0;32m---> 23\u001b[0;31m \u001b[0;32mimport\u001b[0m \u001b[0mpicamera\u001b[0m\u001b[0;34m\u001b[0m\u001b[0m\n\u001b[0m\u001b[1;32m     24\u001b[0m \u001b[0mcamera\u001b[0m \u001b[0;34m=\u001b[0m \u001b[0mpicamera\u001b[0m\u001b[0;34m.\u001b[0m\u001b[0mPiCamera\u001b[0m\u001b[0;34m(\u001b[0m\u001b[0;34m)\u001b[0m\u001b[0;34m\u001b[0m\u001b[0m\n\u001b[1;32m     25\u001b[0m \u001b[0;34m\u001b[0m\u001b[0m\n",
      "\u001b[0;31mImportError\u001b[0m: No module named picamera"
     ]
    }
   ],
   "source": [
    "import time\n",
    "import random\n",
    "import datetime\n",
    "import telepot\n",
    "from telepot.loop import MessageLoop\n",
    "\n",
    "import shoppingList\n",
    "import camera\n",
    "import sys\n",
    "#sys.path.insert(0, '/path/to/application/app/folder')\n",
    "import re\n"
   ]
  },
  {
   "cell_type": "code",
   "execution_count": 73,
   "metadata": {
    "collapsed": false
   },
   "outputs": [],
   "source": [
    "def handle(msg):\n",
    "    chat_id = msg['chat']['id']\n",
    "    \n",
    "    #print msg['text']\n",
    "    a_text = msg['text'].split(\" \")\n",
    "    command = a_text[0]\n",
    "    \n",
    "    print 'Got command: %s' % command\n",
    "    \n",
    "    msg = \"\"\n",
    "    found_bool = False\n",
    "    #check command name\n",
    "    for module in all_commands.keys():\n",
    "        if command in all_commands[module].keys():\n",
    "            a_text.pop(0)\n",
    "            module_name = getattr(sys.modules[__name__] ,module)\n",
    "            method_to_run = getattr(module_name, all_commands[module][command][\"method\"])\n",
    "            msg = method_to_run(a_text)\n",
    "            found_bool = True\n",
    "\n",
    "    if(not found_bool):\n",
    "        msg = {\"text\": \"Insert a correct command name.\\n\"}\n",
    "        for module in all_commands.keys():   \n",
    "            msg[\"text\"] = msg[\"text\"] + \"In case is \"+str(module)+\" then the commands are:\\n\"\n",
    "            for command in all_commands[module].keys():\n",
    "                msg[\"text\"] = str(msg[\"text\"]) + str(command)+\": \"+ all_commands[module][command][\"notes\"]+ \"\\n\"\n",
    "            msg[\"text\"] = msg[\"text\"] + \"\\n\"\n",
    "\n",
    "    bot.sendMessage(chat_id, msg[\"text\"])\n",
    "    if \"photo\" in msg.keys():\n",
    "        bot.sendPhoto(chat_id, msg[\"photo\"])\n",
    "\n",
    "all_commands = {}\n",
    "all_commands[\"shoppingList\"] = shoppingList.get_my_commands()\n",
    "all_commands[\"camera\"] = camera.get_my_commands()\n",
    "token = '217399231:AAEH7BKYl07svmbCnqyiEVQTYYM40o_vv0w'\n",
    "bot = telepot.Bot(token)\n",
    "\n",
    "MessageLoop(bot, handle).run_as_thread()\n",
    "print 'I am listening ...'\n",
    "\n",
    "while 1:\n",
    "    time.sleep(10)"
   ]
  },
  {
   "cell_type": "code",
   "execution_count": 8,
   "metadata": {
    "collapsed": false
   },
   "outputs": [],
   "source": [
    "import urllib2\n",
    "url = urllib2.urlopen('http://i.imgur.com/35HSRQ6.png')\n"
   ]
  },
  {
   "cell_type": "code",
   "execution_count": null,
   "metadata": {
    "collapsed": true
   },
   "outputs": [],
   "source": []
  }
 ],
 "metadata": {
  "anaconda-cloud": {},
  "kernelspec": {
   "display_name": "Python [conda env:py27]",
   "language": "python",
   "name": "conda-env-py27-py"
  },
  "language_info": {
   "codemirror_mode": {
    "name": "ipython",
    "version": 2
   },
   "file_extension": ".py",
   "mimetype": "text/x-python",
   "name": "python",
   "nbconvert_exporter": "python",
   "pygments_lexer": "ipython2",
   "version": "2.7.12"
  }
 },
 "nbformat": 4,
 "nbformat_minor": 2
}
