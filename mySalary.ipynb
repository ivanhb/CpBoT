{
 "cells": [
  {
   "cell_type": "code",
   "execution_count": null,
   "metadata": {
    "collapsed": true
   },
   "outputs": [],
   "source": []
  },
  {
   "cell_type": "code",
   "execution_count": 1,
   "metadata": {
    "collapsed": true
   },
   "outputs": [],
   "source": [
    "def new_entry(type_entry, month, name,keys,notes,value):\n",
    "    if month not in movements[type_entry]:\n",
    "        movements[type_entry][month] = []\n",
    "        \n",
    "    movements[type_entry][month].append({\"name\":name, \"keys\": keys, \"notes\": notes, \"value\": value})"
   ]
  },
  {
   "cell_type": "code",
   "execution_count": 2,
   "metadata": {
    "collapsed": true
   },
   "outputs": [],
   "source": [
    "def sumOf(category,months):\n",
    "    total = 0\n",
    "    for m in movements[category]:\n",
    "        if m in months:\n",
    "            for entry in movements[category][m]:\n",
    "                total += entry[\"value\"]\n",
    "    return total"
   ]
  },
  {
   "cell_type": "code",
   "execution_count": 3,
   "metadata": {
    "collapsed": false
   },
   "outputs": [],
   "source": [
    "mySalary = 1938\n",
    "movements = {\"outgoings\":{},\"incomings\":{}}\n",
    "new_entry(\"outgoings\", \"Nov\",\"Giacca carrhart\", [\"personale\",\"abbigliamento\"], \"\", 240)\n",
    "new_entry(\"outgoings\",\"Oct\",\"Cena compleanno\", [\"personale\"], \"\", 250)\n",
    "new_entry(\"incomings\",\"Oct\",\"Regalo compleanno\", [\"personale\"], \"\", 100)\n",
    "new_entry(\"outgoings\",\"Nov\",\"Profumo\", [\"personale\",\"cura-persona\"], \"\", 70)\n",
    "new_entry(\"outgoings\",\"Nov\",\"HD SSD\", [\"personale\",\"elettronica\"], \"\", 140)"
   ]
  },
  {
   "cell_type": "code",
   "execution_count": 4,
   "metadata": {
    "collapsed": false
   },
   "outputs": [],
   "source": [
    "totOut = sumOf(\"outgoings\",[\"Nov\",\"Oct\"])\n",
    "totIn = sumOf(\"incomings\",[\"Nov\",\"Oct\"])"
   ]
  },
  {
   "cell_type": "code",
   "execution_count": 5,
   "metadata": {
    "collapsed": false
   },
   "outputs": [
    {
     "data": {
      "text/plain": [
       "1338"
      ]
     },
     "execution_count": 5,
     "metadata": {},
     "output_type": "execute_result"
    }
   ],
   "source": [
    "(mySalary + totIn) - totOut"
   ]
  },
  {
   "cell_type": "code",
   "execution_count": null,
   "metadata": {
    "collapsed": true
   },
   "outputs": [],
   "source": []
  }
 ],
 "metadata": {
  "anaconda-cloud": {},
  "kernelspec": {
   "display_name": "Python [conda env:py27]",
   "language": "python",
   "name": "conda-env-py27-py"
  },
  "language_info": {
   "codemirror_mode": {
    "name": "ipython",
    "version": 2
   },
   "file_extension": ".py",
   "mimetype": "text/x-python",
   "name": "python",
   "nbconvert_exporter": "python",
   "pygments_lexer": "ipython2",
   "version": "2.7.12"
  }
 },
 "nbformat": 4,
 "nbformat_minor": 2
}
