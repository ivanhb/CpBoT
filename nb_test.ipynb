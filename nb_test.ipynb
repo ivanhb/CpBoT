{
 "cells": [
  {
   "cell_type": "code",
   "execution_count": 99,
   "metadata": {},
   "outputs": [
    {
     "name": "stdout",
     "output_type": "stream",
     "text": [
      "['name', 'location', 'date', 'contribution', 'description', 'extra']\n",
      "About: WikiCite 2018 is a 3-day conference, summit, and hack day dedicated to the vision of creating an open repository of bibliographic data to support the citation and fact-checking needs of Wikimedia projects, and possibly, to serve as an open infrastructure for research, education, and information quality across the web.\n",
      "Conference website: https://meta.wikimedia.org/wiki/WikiCite_2018\n",
      "View the presentation: https://docs.google.com/presentation/d/1lM8HDFUytUEQ2vu603yJ0R1T8qTdsx8q50o5vP9y2so/edit?usp=sharing\n",
      "Lucinda demo for Wikidata: https://opencitations.github.io/lucinda/example/wikidata/browser.html?browse=Q30536251\n",
      "OSCAR demo for Wikidata: https://opencitations.github.io/oscar/example/v2/wikidata.html\n",
      "\n"
     ]
    }
   ],
   "source": [
    "import csv\n",
    "import urllib.request\n",
    "import json\n",
    "import re\n",
    "import ast\n",
    "\n",
    "\n",
    "\n",
    "str_to_return = \"\"\n",
    "api_call = \"https://ivanhb.github.io/data/activity.csv\"\n",
    "\n",
    "contents = urllib.request.urlopen(api_call).read().decode('utf-8')\n",
    "arr_rows = str(contents).split('\\n')\n",
    "csv_matrix = list(csv.reader(arr_rows))\n",
    "\n",
    "print(csv_file[0])\n",
    "str_to_send = \"\"\n",
    "str_to_send= \"Event: \"+csv_file[1][0] + \"\\n\"\n",
    "str_to_send= \"At : \"+csv_file[1][1] + \"\\n\"\n",
    "str_to_send= \"On : \"+csv_file[1][2] + \"\\n\"\n",
    "str_to_send= \"My contribution: \"+csv_file[1][3] + \"\\n\"\n",
    "str_to_send= \"About: \"+csv_file[1][4] + \"\\n\"\n",
    "\n",
    "arr_ext = csv_file[1][5].split(']],[[')\n",
    "str_all_ext = \"\"\n",
    "for ex_i in arr_ext:\n",
    "    ex_i = ex_i.replace('[[','')\n",
    "    ex_i = ex_i.replace(']]','')\n",
    "    ex_parts_i = ex_i.split(',')\n",
    "\n",
    "    if ex_parts_i[0][:4] == 'link':\n",
    "        str_all_ext = str_all_ext + ex_parts_i[1]+ \": \" + ex_parts_i[2] + '\\n'\n",
    "\n",
    "str_to_send = str_to_send + str_all_ext\n",
    "print(str_to_send)"
   ]
  },
  {
   "cell_type": "code",
   "execution_count": 20,
   "metadata": {},
   "outputs": [
    {
     "name": "stdout",
     "output_type": "stream",
     "text": [
      "['Heibi I., Peroni S., Shotton D. (2018) OSCAR: A Customisable Tool for Free-Text Search over SPARQL Endpoints. In: González-Beltrán A., Osborne F., Peroni S., Vahdati S. (eds) Semantics, Analytics, Visualization. SAVE-SD 2017, SAVE-SD 2018. Lecture Notes in Computer Science, vol 10959. Springer, Cham', '2018', '[[link_text,https://doi.org/10.1007/978-3-030-01379-0_9,https://doi.org/10.1007/978-3-030-01379-0_9]]']\n",
      "['Upcoming: Heibi I., Peroni S., Shotton D. Enabling text search on SPARQL-endpoints through OSCAR. Data Science.', '', '']\n"
     ]
    },
    {
     "data": {
      "text/plain": [
       "'\\nHeibi I., Peroni S., Shotton D. (2018) OSCAR: A Customisable Tool for Free-Text Search over SPARQL Endpoints. In: González-Beltrán A., Osborne F., Peroni S., Vahdati S. (eds) Semantics, Analytics, Visualization. SAVE-SD 2017, SAVE-SD 2018. Lecture Notes in Computer Science, vol 10959. Springer, Cham\\nhttps://doi.org/10.1007/978-3-030-01379-0_9: https://doi.org/10.1007/978-3-030-01379-0_9\\n\\n\\n\\nUpcoming: Heibi I., Peroni S., Shotton D. Enabling text search on SPARQL-endpoints through OSCAR. Data Science.\\n\\n'"
      ]
     },
     "execution_count": 20,
     "metadata": {},
     "output_type": "execute_result"
    }
   ],
   "source": [
    "import sys\n",
    "import glob\n",
    "import importlib.util\n",
    "import re\n",
    "import urllib.request\n",
    "import csv\n",
    "\n",
    "def list_publications(a_text):\n",
    "    str_to_return = \"\"\n",
    "    api_call = \"https://ivanhb.github.io/data/publication.csv\"\n",
    "    csv_matrix = get_csv_file(api_call)\n",
    "    \n",
    "    str_to_send = \"\"\n",
    "    if csv_matrix != [] and csv_matrix != -1:\n",
    "        for i in range(1,len(csv_matrix)):\n",
    "            str_to_send = str_to_send + \"\\n\"+csv_matrix[i][0]\n",
    "            if csv_matrix[i][2] != \"\":\n",
    "                str_to_send = str_to_send + \"\\n\" + handle_extra_elem(csv_matrix[i][2])\n",
    "            str_to_send = str_to_send + \" \\n\\n\"\n",
    "\n",
    "    return str_to_send\n",
    "\n",
    "def get_csv_file(api_call):\n",
    "\n",
    "    contents = urllib.request.urlopen(api_call).read().decode('utf-8')\n",
    "    #print(urllib.request.urlopen(\"https://ivanhb.github.io/data/publication.csv\").read().decode('utf-8'))\n",
    "    arr_rows = str(contents).split('\\n')\n",
    "    #print(arr_rows)\n",
    "    return list(csv.reader(arr_rows))\n",
    "\n",
    "\n",
    "def handle_extra_elem(ext_elem):\n",
    "    arr_ext = ext_elem.split(']],[[')\n",
    "    str_all_ext = \"\"\n",
    "    for ex_i in arr_ext:\n",
    "        ex_i = ex_i.replace('[[','')\n",
    "        ex_i = ex_i.replace(']]','')\n",
    "        ex_parts_i = ex_i.split(',')\n",
    "\n",
    "        if ex_parts_i[0][:4] == 'link':\n",
    "            str_all_ext = str_all_ext + ex_parts_i[1]+ \": \" + ex_parts_i[2] + '\\n'\n",
    "    return str_all_ext\n",
    "\n",
    "list_publications(\"ll\")"
   ]
  },
  {
   "cell_type": "code",
   "execution_count": 6,
   "metadata": {},
   "outputs": [],
   "source": [
    "import re\n",
    "find_list = re.findall(r\"(10.\\d{4,9}\\/[-._;()/:A-Za-z0-9][^\\\\s]+)\",'10.1108/jd-12-2013-0166')\n",
    "if len(find_list) == 0:\n",
    "    print(\"Please, text me a correct DOI format\")"
   ]
  },
  {
   "cell_type": "code",
   "execution_count": 8,
   "metadata": {},
   "outputs": [],
   "source": [
    "import json\n",
    "import urllib.request\n",
    "api_call = 'http://opencitations.net/index/coci/api/v1/metadata/10.1108/jd-12-2013-0166'\n",
    "\n",
    "contents = urllib.request.urlopen(api_call).read().decode('utf-8')\n",
    "json_output = json.loads(contents)"
   ]
  },
  {
   "cell_type": "code",
   "execution_count": 9,
   "metadata": {},
   "outputs": [
    {
     "name": "stdout",
     "output_type": "stream",
     "text": [
      "[{'citation': '10.1177/0961000615616450; 10.7554/elife.32822; 10.1145/3197026.3197050; 10.1093/bib/bbx057; 10.1007/978-3-319-68204-4_19; 10.3346/jkms.2015.30.11.1545; 10.1007/978-3-319-73165-0_24; 10.3233/sw-160224; 10.3233/sw-180307; 10.1007/978-3-319-90548-8_7; 10.1142/s021964921850034x; 10.1007/978-3-319-58694-6_23; 10.1057/s41275-017-0070-x', 'author': 'Peroni, Silvio; Dutton, Alexander; Gray, Tanya; Shotton, David', 'issue': '2', 'source_title': 'Journal Of Documentation', 'doi': '10.1108/jd-12-2013-0166', 'title': 'Setting Our Bibliographic References Free: Towards Open Citation Data', 'oa_link': '', 'volume': '71', 'citation_count': '13', 'page': '253-277', 'year': '2015', 'source_id': 'issn:0022-0418', 'reference': '10.1001/jama.295.1.90; 10.1002/asi.4630240406; 10.1002/(sici)1097-4571(198909)40:5<342::aid-asi7>3.0.co;2-u; 10.1007/bf02457980; 10.1007/s10579-012-9211-2; 10.1007/s11192-009-0021-2; 10.1016/j.websem.2012.08.001; 10.1016/j.websem.2013.05.001; 10.1023/a:1021919228368; 10.1038/35079151; 10.1038/495437a; 10.1038/502295a; 10.1038/502298a; 10.1042/bj20091474; 10.1073/pnas.0407743101; 10.1087/2009202; 10.1093/bioinformatics; 10.1101/sqb.1972.036.01.015; 10.1108/eum0000000007123; 10.1108/jd-07-2012-0082; 10.1126/science.149.3683.510; 10.1136/bmj.a568; 10.1136/bmj.b2680; 10.1145/1498765.1498780; 10.1177/030631277400400102; 10.1177/030631277500500106; 10.1371/journal.pcbi.0010034; 10.1371/journal.pcbi.1000361; 10.1371/journal.pntd.0000228; 10.1371/journal.pone.0000308; 10.1523/jneurosci.0003-08.2008; 10.1525/bio.2010.60.5.2; 10.3115/1610075.1610091; 10.5210/fm.v2i4.522; 10.5539/ass.v9n5p18; 10.7717/peerj.175'}]\n"
     ]
    }
   ],
   "source": [
    "print(json_output)"
   ]
  },
  {
   "cell_type": "code",
   "execution_count": null,
   "metadata": {},
   "outputs": [],
   "source": []
  }
 ],
 "metadata": {
  "kernelspec": {
   "display_name": "Python 3",
   "language": "python",
   "name": "python3"
  },
  "language_info": {
   "codemirror_mode": {
    "name": "ipython",
    "version": 3
   },
   "file_extension": ".py",
   "mimetype": "text/x-python",
   "name": "python",
   "nbconvert_exporter": "python",
   "pygments_lexer": "ipython3",
   "version": "3.6.5"
  }
 },
 "nbformat": 4,
 "nbformat_minor": 2
}
