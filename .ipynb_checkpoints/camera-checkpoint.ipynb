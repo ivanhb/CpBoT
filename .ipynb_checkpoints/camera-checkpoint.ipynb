{
 "cells": [
  {
   "cell_type": "code",
   "execution_count": null,
   "metadata": {
    "collapsed": false
   },
   "outputs": [],
   "source": [
    "my_commands = {\n",
    "    \"#takePicture\" : {\"module\": \"camera\", \"method\": \"take_picture\", \"notes\":\"\"},\n",
    "}\n",
    "\n",
    "def get_my_commands():\n",
    "    return my_commands\n",
    "\n",
    "def take_picture(a_text):\n",
    "    password = \"\"\n",
    "    if len(a_text) > 0:\n",
    "        password = a_text[0]\n",
    "    if (password == \"mypi\"):\n",
    "        camera.capture('image.jpg')\n",
    "        return {\"text\": \"I have taken a picture!\", \"photo\":\"image.jpg\"}\n",
    "    else:\n",
    "        return {\"text\": \"Wrong password!\"}\n",
    "\n",
    "import picamera\n",
    "camera = picamera.PiCamera()"
   ]
  },
  {
   "cell_type": "code",
   "execution_count": null,
   "metadata": {
    "collapsed": true
   },
   "outputs": [],
   "source": []
  }
 ],
 "metadata": {
  "anaconda-cloud": {},
  "kernelspec": {
   "display_name": "Python [conda env:py27]",
   "language": "python",
   "name": "conda-env-py27-py"
  },
  "language_info": {
   "codemirror_mode": {
    "name": "ipython",
    "version": 2
   },
   "file_extension": ".py",
   "mimetype": "text/x-python",
   "name": "python",
   "nbconvert_exporter": "python",
   "pygments_lexer": "ipython2",
   "version": "2.7.12"
  }
 },
 "nbformat": 4,
 "nbformat_minor": 2
}
