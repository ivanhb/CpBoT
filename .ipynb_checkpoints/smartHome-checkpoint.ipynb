{
 "cells": [
  {
   "cell_type": "code",
   "execution_count": 31,
   "metadata": {
    "collapsed": false
   },
   "outputs": [],
   "source": [
    "import time\n",
    "import random\n",
    "import datetime\n",
    "import telepot\n",
    "from telepot.loop import MessageLoop\n",
    "\n",
    "import shoppingList\n",
    "import sys\n",
    "#sys.path.insert(0, '/path/to/application/app/folder')\n",
    "import re\n"
   ]
  },
  {
   "cell_type": "code",
   "execution_count": 73,
   "metadata": {
    "collapsed": false
   },
   "outputs": [],
   "source": [
    "def handle(msg):\n",
    "    chat_id = msg['chat']['id']\n",
    "    \n",
    "    #print msg['text']\n",
    "    a_text = msg['text'].split(\" \")\n",
    "    command = a_text[0]\n",
    "    \n",
    "    print 'Got command: %s' % command\n",
    "    \n",
    "    msg = \"\"\n",
    "    found_bool = False\n",
    "    #check command name\n",
    "    for module in all_commands.keys():\n",
    "        if command in all_commands[module].keys():\n",
    "            a_text.pop(0)\n",
    "            module_name = getattr(sys.modules[__name__] ,module)\n",
    "            method_to_run = getattr(module_name, all_commands[module][command][\"method\"])\n",
    "            msg = method_to_run(a_text)\n",
    "            found_bool = True\n",
    "\n",
    "    if(not found_bool):\n",
    "        msg = \"Insert a correct command name.\\n\"\n",
    "        for module in all_commands.keys():   \n",
    "            msg = msg + \"In case is \"+str(module)+\" then the commands are:\\n\"\n",
    "            for command in all_commands[module].keys():\n",
    "                msg = str(msg) + str(command)+\": \"+ all_commands[module][command][\"notes\"]+ \"\\n\"\n",
    "            msg = msg + \"\\n\"\n",
    "\n",
    "    bot.sendMessage(chat_id, msg)\n",
    "\n",
    "all_commands = {}\n",
    "all_commands[\"shoppingList\"] = shoppingList.get_my_commands()\n",
    "token = '217399231:AAEH7BKYl07svmbCnqyiEVQTYYM40o_vv0w'\n",
    "bot = telepot.Bot(token)\n",
    "\n",
    "MessageLoop(bot, handle).run_as_thread()\n",
    "print 'I am listening ...'\n",
    "\n",
    "while 1:\n",
    "    time.sleep(10)"
   ]
  },
  {
   "cell_type": "code",
   "execution_count": null,
   "metadata": {
    "collapsed": true
   },
   "outputs": [],
   "source": []
  }
 ],
 "metadata": {
  "anaconda-cloud": {},
  "kernelspec": {
   "display_name": "Python [conda env:py27]",
   "language": "python",
   "name": "conda-env-py27-py"
  },
  "language_info": {
   "codemirror_mode": {
    "name": "ipython",
    "version": 2
   },
   "file_extension": ".py",
   "mimetype": "text/x-python",
   "name": "python",
   "nbconvert_exporter": "python",
   "pygments_lexer": "ipython2",
   "version": "2.7.12"
  }
 },
 "nbformat": 4,
 "nbformat_minor": 2
}
