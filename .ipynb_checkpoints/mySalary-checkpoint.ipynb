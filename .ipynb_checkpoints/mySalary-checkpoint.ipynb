{
 "cells": [
  {
   "cell_type": "code",
   "execution_count": 57,
   "metadata": {
    "collapsed": false
   },
   "outputs": [],
   "source": [
    "import csv\n",
    "\n",
    "mySalary = 1938\n",
    "movements = {\"outgoings\":{},\"incomings\":{}}\n",
    "\n",
    "my_commands = {\n",
    "    \"#newEntry\" : {\"module\": \"mySalary\", \"method\": \"new_entry\", \"notes\":\"insert type(incomings or outgoings), month(e.g: Nov), name, key-words*, notes*, value\"},\n",
    "    \"#sumMovements\" : {\"module\": \"mySalary\", \"method\": \"sumOf\", \"notes\":\"\"},\n",
    "    \"#backupData\" : {\"module\": \"mySalary\", \"method\": \"createCsv\", \"notes\":\"\"}\n",
    "}"
   ]
  },
  {
   "cell_type": "code",
   "execution_count": 58,
   "metadata": {
    "collapsed": true
   },
   "outputs": [],
   "source": [
    "def new_entry(type_entry, month, name,keys,notes,value):\n",
    "    if month not in movements[type_entry]:\n",
    "        movements[type_entry][month] = []\n",
    "        \n",
    "    movements[type_entry][month].append({\"name\":name, \"keys\": keys, \"notes\": notes, \"value\": value})\n",
    "\n",
    "def sumOf(category,months):\n",
    "    total = 0\n",
    "    for m in movements[category]:\n",
    "        if m in months:\n",
    "            for entry in movements[category][m]:\n",
    "                total += entry[\"value\"]\n",
    "    return total\n",
    "\n",
    "def createCsv(*args):\n",
    "    mylist = []\n",
    "    for type_m in movements:\n",
    "        for date in movements[type_m]:\n",
    "            for entry in movements[type_m][date]:\n",
    "                myEntry = entry\n",
    "                myEntry[\"type\"] = str(type_m) \n",
    "                print myEntry\n",
    "                mylist.append(myEntry)\n",
    "            \n",
    "    with open(\"movements.csv\", 'wb') as myfile:\n",
    "        wr = csv.writer(myfile, quoting=csv.QUOTE_ALL)\n",
    "        \n",
    "        for elem in mylist:\n",
    "            a_row = []\n",
    "            for key in elem:\n",
    "                a_row.append(key)                \n",
    "            wr.writerow(a_row)\n",
    "            break\n",
    "        \n",
    "        for elem in mylist:\n",
    "            a_row = []\n",
    "            for key in elem:\n",
    "                a_row.append(elem[key])    \n",
    "            wr.writerow(a_row)\n",
    "                "
   ]
  },
  {
   "cell_type": "code",
   "execution_count": 43,
   "metadata": {
    "collapsed": false
   },
   "outputs": [],
   "source": [
    "new_entry(\"outgoings\", \"Nov\",\"Giacca carrhart\", [\"personale\",\"abbigliamento\"], \"\", 240)\n",
    "new_entry(\"outgoings\",\"Oct\",\"Cena compleanno\", [\"personale\"], \"\", 250)\n",
    "new_entry(\"incomings\",\"Oct\",\"Regalo compleanno\", [\"personale\"], \"\", 100)\n",
    "new_entry(\"outgoings\",\"Nov\",\"Profumo\", [\"personale\",\"cura-persona\"], \"\", 70)\n",
    "new_entry(\"outgoings\",\"Nov\",\"HD SSD\", [\"personale\",\"elettronica\"], \"\", 140)"
   ]
  },
  {
   "cell_type": "code",
   "execution_count": 44,
   "metadata": {
    "collapsed": false
   },
   "outputs": [],
   "source": [
    "totOut = sumOf(\"outgoings\",[\"Nov\",\"Oct\"])\n",
    "totIn = sumOf(\"incomings\",[\"Nov\",\"Oct\"])"
   ]
  },
  {
   "cell_type": "code",
   "execution_count": 45,
   "metadata": {
    "collapsed": false
   },
   "outputs": [
    {
     "data": {
      "text/plain": [
       "1338"
      ]
     },
     "execution_count": 45,
     "metadata": {},
     "output_type": "execute_result"
    }
   ],
   "source": [
    "(mySalary + totIn) - totOut"
   ]
  },
  {
   "cell_type": "code",
   "execution_count": 54,
   "metadata": {
    "collapsed": false
   },
   "outputs": [
    {
     "name": "stdout",
     "output_type": "stream",
     "text": [
      "{'keys': ['personale', 'abbigliamento'], 'notes': '', 'type': 'outgoings', 'name': 'Giacca carrhart', 'value': 240}\n",
      "{'keys': ['personale', 'cura-persona'], 'notes': '', 'type': 'outgoings', 'name': 'Profumo', 'value': 70}\n",
      "{'keys': ['personale', 'elettronica'], 'notes': '', 'type': 'outgoings', 'name': 'HD SSD', 'value': 140}\n",
      "{'keys': ['personale'], 'notes': '', 'type': 'outgoings', 'name': 'Cena compleanno', 'value': 250}\n",
      "{'keys': ['personale'], 'notes': '', 'type': 'incomings', 'name': 'Regalo compleanno', 'value': 100}\n"
     ]
    }
   ],
   "source": [
    "createCsv()"
   ]
  },
  {
   "cell_type": "code",
   "execution_count": null,
   "metadata": {
    "collapsed": true
   },
   "outputs": [],
   "source": []
  }
 ],
 "metadata": {
  "anaconda-cloud": {},
  "kernelspec": {
   "display_name": "Python [conda env:py27]",
   "language": "python",
   "name": "conda-env-py27-py"
  },
  "language_info": {
   "codemirror_mode": {
    "name": "ipython",
    "version": 2
   },
   "file_extension": ".py",
   "mimetype": "text/x-python",
   "name": "python",
   "nbconvert_exporter": "python",
   "pygments_lexer": "ipython2",
   "version": "2.7.12"
  }
 },
 "nbformat": 4,
 "nbformat_minor": 2
}
