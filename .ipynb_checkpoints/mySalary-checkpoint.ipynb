{
 "cells": [
  {
   "cell_type": "code",
   "execution_count": 107,
   "metadata": {
    "collapsed": false
   },
   "outputs": [],
   "source": [
    "import csv\n",
    "\n",
    "my_commands = {\n",
    "    \"#newEntry\" : {\"module\": \"mySalary\", \"method\": \"new_entry\", \"notes\":\"insert type(incomings or outgoings), month(e.g: Nov), name, key-words*, notes*, value\"},\n",
    "    \"#monthRecap\" : {\"module\": \"mySalary\", \"method\": \"monthRecap\", \"notes\":\"insert months(list or one month)\"},\n",
    "    \"#monthOutgoings\" : {\"module\": \"mySalary\", \"method\": \"monthOutgoings\", \"notes\":\"insert months(list or one month)\"},\n",
    "    \"#monthIncomings\" : {\"module\": \"mySalary\", \"method\": \"monthIncomings\", \"notes\":\"insert months(list or one month)\"},\n",
    "    \"#getKeyEntries\" : {\"module\": \"mySalary\", \"method\": \"keyEntries\", \"notes\":\"insert: outgoings/incomings, months and the keys\"},\n",
    "    \"#backupData\" : {\"module\": \"mySalary\", \"method\": \"backup\", \"notes\":\"\"}\n",
    "}"
   ]
  },
  {
   "cell_type": "code",
   "execution_count": 99,
   "metadata": {
    "collapsed": true
   },
   "outputs": [],
   "source": [
    "def new_entry(type_entry, month, name,keys,notes,value):\n",
    "    month = initMonth(month)\n",
    "        \n",
    "    for i in range(0,len(month)):\n",
    "        if month[i] not in movements[type_entry]:\n",
    "            movements[type_entry][month[i]] = []\n",
    "        movements[type_entry][month[i]].append({\"name\":name, \"keys\": keys, \"notes\": notes, \"value\": value})\n",
    "\n",
    "def sumOf(category,months):\n",
    "    months = initMonth(months)\n",
    "    \n",
    "    total = 0\n",
    "    for m in movements[category]:\n",
    "        if m in months:\n",
    "            for entry in movements[category][m]:\n",
    "                total += entry[\"value\"]\n",
    "    return total\n",
    "\n",
    "def keyEntries(category,months,keys):\n",
    "    months = initMonth(months)\n",
    "    \n",
    "    entries = []\n",
    "    for m in movements[category]:\n",
    "        if m in months:\n",
    "            for entry in movements[category][m]:\n",
    "                flag = True\n",
    "                if keys != \"*\":\n",
    "                    keys = initKeys(keys)\n",
    "                    for k in keys:\n",
    "                        flag = flag and ( k in entry[\"keys\"])\n",
    "                if flag:\n",
    "                    entries.append(entry)\n",
    "    return entries\n",
    "                \n",
    "\n",
    "def monthRecap(months):\n",
    "    return monthIncoming(months) - monthOutgoings(months)\n",
    "\n",
    "def monthOutgoings(months):\n",
    "    return sumOf(\"outgoings\",months)\n",
    "\n",
    "def monthIncoming(months):\n",
    "    return sumOf(\"incomings\",months)\n",
    "    \n",
    "def backup():\n",
    "    createCsv()\n",
    "\n",
    "def initMonth(month):\n",
    "    if month == \"*\":\n",
    "        month = [\"Jan\",\"Feb\",\"March\",\"April\",\"May\",\"June\",\"Aug\",\"Sep\",\"Oct\",\"Nov\",\"Dec\"]\n",
    "    \n",
    "    if not isinstance(month, list):\n",
    "        month = [month]\n",
    "    \n",
    "    return month\n",
    "\n",
    "def initKeys(keys):\n",
    "    if keys == \"*\":\n",
    "        list_k = []\n",
    "        for c in movements:\n",
    "            for m in movements[c]:\n",
    "                for entry in movements[c][m]:\n",
    "                    for k in entry[\"keys\"]:\n",
    "                        if k not in list_k:\n",
    "                            list_k.append(k)\n",
    "        keys = list_k\n",
    "        \n",
    "    \n",
    "    if not isinstance(keys, list):\n",
    "        keys = [keys]\n",
    "    \n",
    "    return keys\n",
    "    \n",
    "def createCsv(*args):\n",
    "    mylist = []\n",
    "    for type_m in movements:\n",
    "        for date in movements[type_m]:\n",
    "            for entry in movements[type_m][date]:\n",
    "                myEntry = entry\n",
    "                myEntry[\"type\"] = str(type_m) \n",
    "                myEntry[\"date\"] = str(date)\n",
    "                mylist.append(myEntry)\n",
    "            \n",
    "    with open(\"movements.csv\", 'wb') as myfile:\n",
    "        wr = csv.writer(myfile, quoting=csv.QUOTE_ALL)\n",
    "        \n",
    "        #header\n",
    "        for elem in mylist:\n",
    "            a_row = []\n",
    "            for key in elem:\n",
    "                a_row.append(key)                \n",
    "            wr.writerow(a_row)\n",
    "            break\n",
    "        \n",
    "        #all values\n",
    "        for elem in mylist:\n",
    "            a_row = []\n",
    "            for key in elem:\n",
    "                str_elem = \"\"\n",
    "                if isinstance(elem[key], list):\n",
    "                    separator = \",\"\n",
    "                    for i in range(0, len(elem[key])):\n",
    "                        if (i == len(elem[key]) - 1): \n",
    "                            separator = \"\"\n",
    "                        str_elem = str_elem + elem[key][i] + separator\n",
    "                else:\n",
    "                    str_elem = elem[key]\n",
    "                    \n",
    "                a_row.append(str_elem)    \n",
    "            wr.writerow(a_row)\n",
    "                "
   ]
  },
  {
   "cell_type": "code",
   "execution_count": 124,
   "metadata": {
    "collapsed": false
   },
   "outputs": [],
   "source": [
    "import numpy as np\n",
    "import matplotlib.pyplot as plt\n",
    "\n",
    "def percKeyByMonth(keys, months, category):\n",
    "    keys = initKeys(keys)\n",
    "    months = initMonth(months)\n",
    "    \n",
    "    sumAll = 0\n",
    "    sumKey = 0\n",
    "    for monthKey in movements[category]:\n",
    "        if monthKey in months:\n",
    "            for entry in movements[category][monthKey]:\n",
    "                flag= True\n",
    "                for k in keys:\n",
    "                    flag = flag and (k in entry['keys'])\n",
    "                if flag:\n",
    "                    sumKey = sumKey + entry[\"value\"]\n",
    "                sumAll = sumAll + entry[\"value\"]\n",
    "    return float(sumKey) / sumAll\n",
    "    \n",
    "\n",
    "def createGBars(keys, months, block, category): \n",
    "    \n",
    "    keys = initKeys(keys)\n",
    "    months = initMonth(months)\n",
    "      \n",
    "    N = len(keys)\n",
    "    keyVal = ()\n",
    "    restVal = ()\n",
    "    for i in range(0,len(months),block):\n",
    "        monthBlk = months[i:i+block]\n",
    "        perc = percKeyByMonth(keys, monthBlk, category)\n",
    "        \n",
    "        list(keyVal).insert(i+block / block, perc*100)\n",
    "        keyVal = tuple(keyVal)\n",
    "        \n",
    "        list(restVal).insert(i+block / block, 100 - (perc*100))\n",
    "        restVal = tuple(restVal)\n",
    "\n",
    "        restVal.append(100 - (perc*100))\n",
    "        \n",
    "            \n",
    "    #menStd = (2, 3, 4, 1, 2)\n",
    "    #womenStd = (3, 5, 2, 3, 3)\n",
    "    ind = np.arange(N)    # the x locations for the groups\n",
    "    width = 0.35       # the width of the bars: can also be len(x) sequence\n",
    "\n",
    "    p1 = plt.bar(ind, keyVal, width)\n",
    "    p2 = plt.bar(ind, restVal, width)\n",
    "\n",
    "    #plt.ylabel('Scores')\n",
    "    #plt.title('Scores by group and gender')\n",
    "    #plt.legend((p1[0], p2[0]), ('Men', 'Women'))\n",
    "    plt.xticks(ind)\n",
    "    plt.yticks(np.arange(0, 81, 10))\n",
    "\n",
    "    plt.show()"
   ]
  },
  {
   "cell_type": "code",
   "execution_count": 100,
   "metadata": {
    "collapsed": false
   },
   "outputs": [],
   "source": [
    "mySalary = 1938\n",
    "movements = {\"outgoings\":{},\"incomings\":{}}\n",
    "\n",
    "new_entry(\"incomings\",\"*\",\"Salario lavoro\", [\"personale\",\"lavoro\",\"salario\"], \"\", 1938)\n",
    "new_entry(\"outgoings\", \"Nov\",\"Giacca carrhart\", [\"personale\",\"abbigliamento\"], \"\", 240)\n",
    "new_entry(\"outgoings\",\"Oct\",\"Cena compleanno\", [\"regalo\"], \"\", 250)\n",
    "new_entry(\"incomings\",\"Oct\",\"Regalo compleanno\", [\"personale\",\"regalo\"], \"\", 100)\n",
    "new_entry(\"outgoings\",\"Nov\",\"Profumo\", [\"personale\",\"cura-persona\"], \"\", 70)\n",
    "new_entry(\"outgoings\",\"Nov\",\"HD SSD\", [\"personale\",\"elettronica\"], \"\", 140)\n",
    "new_entry(\"outgoings\", \"Dec\",\"Biglietto Alitalia (+Penale)\", [\"personale\",\"viaggio\"], \"\", 650)\n",
    "new_entry(\"outgoings\", \"Dec\",\"Giacca element Adam\", [\"regalo\",\"abbigliamento\"], \"\", 130)\n",
    "new_entry(\"outgoings\", \"Dec\",\"Regali per cugini (+ Quadro Jihan)\", [\"regalo\",\"varie\"], \"\", 100)\n",
    "new_entry(\"outgoings\", \"Dec\",\"Regalo per la Mamma\", [\"regalo\",\"elettronica\"], \"\", 170)\n",
    "new_entry(\"outgoings\", \"Dec\",\"Biglietti concerti\", [\"personale\",\"svago\"], \"\", 50)\n",
    "new_entry(\"outgoings\", \"*\",\"Abb. Spotify\", [\"personale\",\"svago\"], \"\", 15)\n",
    "new_entry(\"outgoings\", \"Dec\",\"Camera raspberry\", [\"personale\",\"elettronica\"], \"\", 30)\n",
    "new_entry(\"outgoings\", \"Dec\",\"Viaggio per Trieste\", [\"personale\",\"viaggio\"], \"\", 30)"
   ]
  },
  {
   "cell_type": "code",
   "execution_count": 125,
   "metadata": {
    "collapsed": false
   },
   "outputs": [
    {
     "ename": "AttributeError",
     "evalue": "'tuple' object has no attribute 'append'",
     "output_type": "error",
     "traceback": [
      "\u001b[0;31m---------------------------------------------------------------------------\u001b[0m",
      "\u001b[0;31mAttributeError\u001b[0m                            Traceback (most recent call last)",
      "\u001b[0;32m<ipython-input-125-837bc88911a7>\u001b[0m in \u001b[0;36m<module>\u001b[0;34m()\u001b[0m\n\u001b[1;32m      1\u001b[0m \u001b[0mpercKeyByMonth\u001b[0m\u001b[0;34m(\u001b[0m\u001b[0;34m[\u001b[0m\u001b[0;34m\"personale\"\u001b[0m\u001b[0;34m,\u001b[0m\u001b[0;34m\"abbigliamento\"\u001b[0m\u001b[0;34m]\u001b[0m\u001b[0;34m,\u001b[0m\u001b[0;34m\"*\"\u001b[0m\u001b[0;34m,\u001b[0m\u001b[0;34m\"outgoings\"\u001b[0m\u001b[0;34m)\u001b[0m\u001b[0;34m\u001b[0m\u001b[0m\n\u001b[0;32m----> 2\u001b[0;31m \u001b[0mcreateGBars\u001b[0m\u001b[0;34m(\u001b[0m\u001b[0;34m[\u001b[0m\u001b[0;34m\"personale\"\u001b[0m\u001b[0;34m,\u001b[0m\u001b[0;34m\"abbigliamento\"\u001b[0m\u001b[0;34m]\u001b[0m\u001b[0;34m,\u001b[0m \u001b[0;34m\"*\"\u001b[0m\u001b[0;34m,\u001b[0m \u001b[0;36m2\u001b[0m\u001b[0;34m,\u001b[0m \u001b[0;34m\"outgoings\"\u001b[0m\u001b[0;34m)\u001b[0m\u001b[0;34m\u001b[0m\u001b[0m\n\u001b[0m",
      "\u001b[0;32m<ipython-input-124-303e43c33939>\u001b[0m in \u001b[0;36mcreateGBars\u001b[0;34m(keys, months, block, category)\u001b[0m\n\u001b[1;32m     31\u001b[0m         \u001b[0mmonthBlk\u001b[0m \u001b[0;34m=\u001b[0m \u001b[0mmonths\u001b[0m\u001b[0;34m[\u001b[0m\u001b[0mi\u001b[0m\u001b[0;34m:\u001b[0m\u001b[0mi\u001b[0m\u001b[0;34m+\u001b[0m\u001b[0mblock\u001b[0m\u001b[0;34m]\u001b[0m\u001b[0;34m\u001b[0m\u001b[0m\n\u001b[1;32m     32\u001b[0m         \u001b[0mperc\u001b[0m \u001b[0;34m=\u001b[0m \u001b[0mpercKeyByMonth\u001b[0m\u001b[0;34m(\u001b[0m\u001b[0mkeys\u001b[0m\u001b[0;34m,\u001b[0m \u001b[0mmonthBlk\u001b[0m\u001b[0;34m,\u001b[0m \u001b[0mcategory\u001b[0m\u001b[0;34m)\u001b[0m\u001b[0;34m\u001b[0m\u001b[0m\n\u001b[0;32m---> 33\u001b[0;31m         \u001b[0mkeyVal\u001b[0m\u001b[0;34m.\u001b[0m\u001b[0mappend\u001b[0m\u001b[0;34m(\u001b[0m\u001b[0mperc\u001b[0m\u001b[0;34m*\u001b[0m\u001b[0;36m100\u001b[0m\u001b[0;34m)\u001b[0m\u001b[0;34m\u001b[0m\u001b[0m\n\u001b[0m\u001b[1;32m     34\u001b[0m         \u001b[0mrestVal\u001b[0m\u001b[0;34m.\u001b[0m\u001b[0mappend\u001b[0m\u001b[0;34m(\u001b[0m\u001b[0;36m100\u001b[0m \u001b[0;34m-\u001b[0m \u001b[0;34m(\u001b[0m\u001b[0mperc\u001b[0m\u001b[0;34m*\u001b[0m\u001b[0;36m100\u001b[0m\u001b[0;34m)\u001b[0m\u001b[0;34m)\u001b[0m\u001b[0;34m\u001b[0m\u001b[0m\n\u001b[1;32m     35\u001b[0m \u001b[0;34m\u001b[0m\u001b[0m\n",
      "\u001b[0;31mAttributeError\u001b[0m: 'tuple' object has no attribute 'append'"
     ]
    }
   ],
   "source": [
    "percKeyByMonth([\"personale\",\"abbigliamento\"],\"*\",\"outgoings\")\n",
    "createGBars([\"personale\",\"abbigliamento\"], \"*\", 2, \"outgoings\")"
   ]
  },
  {
   "cell_type": "code",
   "execution_count": 101,
   "metadata": {
    "collapsed": false
   },
   "outputs": [
    {
     "name": "stdout",
     "output_type": "stream",
     "text": [
      "763\n"
     ]
    }
   ],
   "source": [
    "print monthRecap(\"Dec\")"
   ]
  },
  {
   "cell_type": "code",
   "execution_count": 106,
   "metadata": {
    "collapsed": false
   },
   "outputs": [
    {
     "data": {
      "text/plain": [
       "[{'keys': ['personale', 'elettronica'],\n",
       "  'name': 'Camera raspberry',\n",
       "  'notes': '',\n",
       "  'value': 30}]"
      ]
     },
     "execution_count": 106,
     "metadata": {},
     "output_type": "execute_result"
    }
   ],
   "source": [
    "keyEntries(\"outgoings\",\"Dec\",[\"elettronica\",\"personale\"])"
   ]
  },
  {
   "cell_type": "code",
   "execution_count": 80,
   "metadata": {
    "collapsed": false
   },
   "outputs": [],
   "source": [
    "createCsv()"
   ]
  },
  {
   "cell_type": "code",
   "execution_count": null,
   "metadata": {
    "collapsed": true
   },
   "outputs": [],
   "source": []
  }
 ],
 "metadata": {
  "anaconda-cloud": {},
  "kernelspec": {
   "display_name": "Python [conda env:py27]",
   "language": "python",
   "name": "conda-env-py27-py"
  },
  "language_info": {
   "codemirror_mode": {
    "name": "ipython",
    "version": 2
   },
   "file_extension": ".py",
   "mimetype": "text/x-python",
   "name": "python",
   "nbconvert_exporter": "python",
   "pygments_lexer": "ipython2",
   "version": "2.7.12"
  }
 },
 "nbformat": 4,
 "nbformat_minor": 2
}
